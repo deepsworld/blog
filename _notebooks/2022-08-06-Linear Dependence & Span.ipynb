{
 "cells": [
  {
   "cell_type": "markdown",
   "metadata": {},
   "source": [
    "# Linear Dependence & Span\n",
    "> My learning notes.\n",
    "\n",
    "- toc: true \n",
    "- badges: true\n",
    "- comments: true\n",
    "- categories: [linear_algebra]\n",
    "- image: images/chart-preview.png"
   ]
  },
  {
   "cell_type": "code",
   "execution_count": 1,
   "metadata": {},
   "outputs": [],
   "source": [
    "# From: https://hadrienj.github.io/posts/\n",
    "import matplotlib.pyplot as plt\n",
    "import numpy as np"
   ]
  },
  {
   "cell_type": "code",
   "execution_count": 2,
   "metadata": {},
   "outputs": [],
   "source": [
    "def plotVectors(vecs, cols, alpha=1):\n",
    "    \"\"\"\n",
    "    Plot set of vectors.\n",
    "\n",
    "    Parameters\n",
    "    ----------\n",
    "    vecs : array-like\n",
    "        Coordinates of the vectors to plot. Each vectors is in an array. For\n",
    "        instance: [[1, 3], [2, 2]] can be used to plot 2 vectors.\n",
    "    cols : array-like\n",
    "        Colors of the vectors. For instance: ['red', 'blue'] will display the\n",
    "        first vector in red and the second in blue.\n",
    "    alpha : float\n",
    "        Opacity of vectors\n",
    "\n",
    "    Returns:\n",
    "\n",
    "    fig : instance of matplotlib.figure.Figure\n",
    "        The figure of the vectors\n",
    "    \"\"\"\n",
    "    plt.figure()\n",
    "    plt.axvline(x=0, color='#A9A9A9', zorder=0)\n",
    "    plt.axhline(y=0, color='#A9A9A9', zorder=0)\n",
    "\n",
    "    for i in range(len(vecs)):\n",
    "        x = np.concatenate([[0,0],vecs[i]])\n",
    "        plt.quiver([x[0]],\n",
    "                   [x[1]],\n",
    "                   [x[2]],\n",
    "                   [x[3]],\n",
    "                   angles='xy', scale_units='xy', scale=1, color=cols[i],\n",
    "                   alpha=alpha)"
   ]
  },
  {
   "cell_type": "code",
   "execution_count": 3,
   "metadata": {},
   "outputs": [
    {
     "data": {
      "text/plain": [
       "(0.0, 5.0)"
      ]
     },
     "execution_count": 3,
     "metadata": {},
     "output_type": "execute_result"
    },
    {
     "data": {
      "image/png": "[encoded data removed]",
      "text/plain": [
       "<Figure size 432x288 with 1 Axes>"
      ]
     },
     "metadata": {
      "needs_background": "light"
     },
     "output_type": "display_data"
    }
   ],
   "source": [
    "orange = '#FF9A13'\n",
    "blue = '#1190FF'\n",
    "u = [1, 3]\n",
    "v = [2, 1]\n",
    "plotVectors([u, v], [orange, blue])\n",
    "plt.xlim(0, 5)\n",
    "plt.ylim(0, 5)"
   ]
  },
  {
   "cell_type": "code",
   "execution_count": 4,
   "metadata": {},
   "outputs": [
    {
     "data": {
      "image/png": "[encoded data removed]",
      "text/plain": [
       "<Figure size 432x288 with 1 Axes>"
      ]
     },
     "metadata": {
      "needs_background": "light"
     },
     "output_type": "display_data"
    }
   ],
   "source": [
    "# Weigths of the vectors\n",
    "a = 2\n",
    "b = 1\n",
    "# Start and end coordinates of the vectors\n",
    "u = [0,0,1,3]\n",
    "v = [2,6,2,1]\n",
    "\n",
    "plt.quiver([u[0], a*u[0], b*v[0]],\n",
    "           [u[1], a*u[1], b*v[1]],\n",
    "           [u[2], a*u[2], b*v[2]],\n",
    "           [u[3], a*u[3], b*v[3]],\n",
    "           angles='xy', scale_units='xy', scale=1, color=[orange, orange, blue])\n",
    "plt.xlim(-1, 8)\n",
    "plt.ylim(-1, 8)\n",
    "# Draw axes\n",
    "plt.axvline(x=0, color='#A9A9A9')\n",
    "plt.axhline(y=0, color='#A9A9A9')\n",
    "plt.scatter(4,7,marker='x',s=50)\n",
    "# Draw the name of the vectors\n",
    "plt.text(-0.5, 2, r'$\\vec{u}$', color=orange, size=18)\n",
    "plt.text(0.5, 4.5, r'$\\vec{u}$', color=orange, size=18)\n",
    "plt.text(2.5, 7, r'$\\vec{v}$', color=blue, size=18)\n",
    "plt.show()\n",
    "plt.close()"
   ]
  },
  {
   "cell_type": "markdown",
   "metadata": {},
   "source": [
    "### Adding 2 vectors: linear combination or weighted sum"
   ]
  },
  {
   "cell_type": "code",
   "execution_count": 5,
   "metadata": {},
   "outputs": [
    {
     "data": {
      "text/plain": [
       "array([2, 6, 4, 7])"
      ]
     },
     "execution_count": 5,
     "metadata": {},
     "output_type": "execute_result"
    }
   ],
   "source": [
    "a * np.array(u) + b * np.array(v)"
   ]
  },
  {
   "cell_type": "markdown",
   "metadata": {},
   "source": [
    "### Linear dependence\n",
    "From: https://math.stackexchange.com/a/2780506/1086132\n",
    "\n",
    "Here's my intuition: Think of vectors as the axes that we use to define a two-dimensional, three-dimensional, or $n$-dimensional space. **A set of vectors is linearly dependent when one of the vectors isn't necessary — it doesn't add anything useful to our coordinate system.**  This happens when one vector is just a linear combination of other vectors in the set.\n",
    "\n",
    "As an example, consider these three vectors in two-dimensional space:\n",
    "\n",
    "$\\vec w = \\begin{bmatrix}2 \\\\3 \\end{bmatrix}$,\n",
    "$\\vec x = \\begin{bmatrix}1 \\\\0 \\end{bmatrix}$,\n",
    "$\\vec y = \\begin{bmatrix}0 \\\\1 \\end{bmatrix}$\n",
    "\n",
    "In this case, we can express $\\vec w$ as a linear combination of the other two vectors, $\\vec w = 2 \\vec x + 3 \\vec y$:\n",
    "\n",
    "$\\begin{bmatrix}2 \\\\3 \\end{bmatrix} = 2\\cdot \\begin{bmatrix}1 \\\\0 \\end{bmatrix} + 3\\cdot \\begin{bmatrix}0 \\\\1 \\end{bmatrix}$\n",
    "\n",
    "Equivalently, we can rewrite this as $2\\vec x + 3 \\vec y - 1\\vec w = 0$:\n",
    "\n",
    "$2\\cdot \\begin{bmatrix}1 \\\\0 \\end{bmatrix} + 3\\cdot \\begin{bmatrix}0 \\\\1 \\end{bmatrix} - 1 \\begin{bmatrix}2 \\\\3 \\end{bmatrix} = \\begin{bmatrix}0 \\\\0 \\end{bmatrix}$\n",
    "\n",
    "Intuitively, this is what is meant by the proof.  When these factors hold, it means that at least one vector is essentially \"redundant\" and unnecessary — it's just a combination of the other vectors. \n",
    "\n",
    "More generally, assume you have a set of vectors with this property:\n",
    "\n",
    "$a_1 \\vec v_1 + a_2  \\vec v_2 + ... + a_n \\vec v_n = 0 $\n",
    "\n",
    "This can be written as:\n",
    "\n",
    "$-a_1 \\vec v_1 = a_2  \\vec v_2 + ... + a_n  \\vec v_n$\n",
    "\n",
    "Which means that $v_1$ can be expressed as simply a linear combination of the other vectors:\n",
    "\n",
    "$v_1 = a_2' v_2 + ... + a_n'v_n$\n",
    " \n",
    "When you have a set of vectors like this, it means that you have multiple ways to express the same point using your coordinate system.  For example, with the vectors above, a point could be identified in the standard *x/y* coordinate system as (8, 15).  But the same point could also be expressed as (4, 3) in *w/y* coordinates or as (5, -2) in *w/x* coordinates:\n",
    "\n",
    "$8\\vec x + 15 \\vec y = 8\\begin{bmatrix}1 \\\\0 \\end{bmatrix} + 15 \\begin{bmatrix}0 \\\\1 \\end{bmatrix} = \\begin{bmatrix}8 \\\\15 \\end{bmatrix}$\n",
    "\n",
    "$4\\vec w + 3 \\vec y = 4\\begin{bmatrix}2 \\\\3 \\end{bmatrix} + 3\\begin{bmatrix}0 \\\\1 \\end{bmatrix} = \\begin{bmatrix}8 \\\\15 \\end{bmatrix}$\n",
    "\n",
    "$5\\vec w -2 \\vec x = 5\\begin{bmatrix}2 \\\\3 \\end{bmatrix} -2\\begin{bmatrix}1 \\\\0 \\end{bmatrix} = \\begin{bmatrix}8 \\\\15 \\end{bmatrix}$\n",
    "\n",
    "We'd normally rather have a minimal set of vectors so that there's only one way to represent each point.  It keeps the math simpler.  This is similar to a system of equations in which you have three equations for two unknowns.  In the above, since we have $\\vec w = 2 \\vec x + 3 \\vec y$, we can always substitute $\\vec x$ and $\\vec y$ for $\\vec w$.  \n",
    "\n",
    "Note that there's no \"correct\" coordinate system -- any set of two vectors here, $\\{\\vec x, \\vec y\\}$, $\\{\\vec w, \\vec y\\}$, or $\\{\\vec w, \\vec x\\}$, would provide a valid basis for a two-dimensional coordinate system.  But there's no need to have three vectors here to represent a point in two-dimensional space.\n",
    "\n"
   ]
  },
  {
   "cell_type": "markdown",
   "metadata": {},
   "source": [
    "### Span\n",
    "All the points we can reach by combininig u and v and changing a and b. This set of points is the `span` of the vectors `u` and `v`"
   ]
  },
  {
   "cell_type": "markdown",
   "metadata": {},
   "source": []
  }
 ],
 "metadata": {
  "kernelspec": {
   "display_name": "Python 3.9.6 64-bit",
   "language": "python",
   "name": "python3"
  },
  "language_info": {
   "codemirror_mode": {
    "name": "ipython",
    "version": 3
   },
   "file_extension": ".py",
   "mimetype": "text/x-python",
   "name": "python",
   "nbconvert_exporter": "python",
   "pygments_lexer": "ipython3",
   "version": "3.9.6"
  },
  "orig_nbformat": 4,
  "vscode": {
   "interpreter": {
    "hash": "aee8b7b246df8f9039afb4144a1f6fd8d2ca17a180786b69acc140d282b71a49"
   }
  }
 },
 "nbformat": 4,
 "nbformat_minor": 2
}
