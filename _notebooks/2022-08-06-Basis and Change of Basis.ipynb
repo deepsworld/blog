{
 "cells": [
  {
   "cell_type": "markdown",
   "metadata": {},
   "source": [
    "# Basis and Change of Basis\n",
    "> My learning notes.\n",
    "\n",
    "- toc: true \n",
    "- badges: true\n",
    "- comments: true\n",
    "- categories: [linear_algebra]\n",
    "- image: images/chart-preview.png"
   ]
  },
  {
   "cell_type": "code",
   "execution_count": 2,
   "metadata": {},
   "outputs": [],
   "source": [
    "# From: https://hadrienj.github.io/posts/\n",
    "import matplotlib.pyplot as plt\n",
    "import numpy as np"
   ]
  },
  {
   "cell_type": "markdown",
   "metadata": {},
   "source": [
    "### Basis\n",
    "Basis is a coordinate system used to describe a vector space or a set of vector. Any vector in this coordinate system can be created using the `weighted` linear combination of the basis vectors. \n",
    "\n",
    "To be considered as basis vector, a set of vectors:\n",
    "- must span the entire space \n",
    "- must be linearly independent \n",
    "\n",
    "`NOTE`: Span of the set of vectors is all the points we can reach by the weighted linear combination of the vectors in the set. If the set of vectors are not linearly independent then there is a redundant vector which can be removed and we can still reach all the points in the span. \n",
    "\n",
    "So, If we have a set of vectors with which we can reach all the points in the span of the basis vector without having any redundant vector in the set, it can be called `Basis`."
   ]
  },
  {
   "cell_type": "markdown",
   "metadata": {},
   "source": [
    "\n",
    "- Every vector in the space if the unique combination of the basis vectors. \n",
    "- The size of the basis vector set is the dimension of the space.\n",
    "- There are two basis vectors in R2 (corresponding to the x and y-axis in the Cartesian plane), or three in R3.\n",
    "- If the number of vectors in a set is larger than the dimensions of the space, they can’t be linearly independent.\n",
    "- If a set contains fewer vectors than the number of dimensions, these vectors can’t span the whole space.\n",
    "- In a cartesian plane, basis vectors are the the orthogonal unit vectors: genrally denoted as `i` and `j`. "
   ]
  },
  {
   "cell_type": "markdown",
   "metadata": {},
   "source": [
    "`NOTE`: Basis vectors can be orthogonal because orthogonal vectors are independent. However, the converse is not necessarily true: non-orthogonal vectors can be linearly independent and thus form a basis (but not a standard basis)."
   ]
  },
  {
   "cell_type": "markdown",
   "metadata": {},
   "source": [
    "### Change of Basis\n",
    "\n",
    "Change of basis can be used to go from one basis to another i.e from one set of basis vectors to another set. \n",
    "\n",
    "`NOTE:` Change of basis vs linear transformation The difference between change of basis and linear transformation is conceptual. Sometimes it is useful to consider the effect of a matrix as a change of basis; sometimes you get more insights when you think of it as a linear transformation. Either you move the vector or you move its reference. This is why rotating the coordinate system has an inverse effect compared to rotating the vector itself. For eigendecomposition and SVD, both of these views are usually taken together, which can be confusing at first. Keeping this difference in mind will be useful throughout the end of the book. The main technical difference between the two is that change of basis must be invertible, which is not required for linear transformations."
   ]
  },
  {
   "cell_type": "code",
   "execution_count": 3,
   "metadata": {},
   "outputs": [
    {
     "data": {
      "text/plain": [
       "array([ 0.86757991, -1.00456621])"
      ]
     },
     "execution_count": 3,
     "metadata": {},
     "output_type": "execute_result"
    }
   ],
   "source": [
    "# These values are the coordinates of the vector v relative to the basis B2. \n",
    "# This means that if you go to 0.86757991i′−1.00456621j′ you arrive to the position (2, 1) \n",
    "v_B1 = np.array([2, 1])\n",
    "B_2 = np.array([\n",
    "    [0.8, -1.3],\n",
    "    [1.5, 0.3]\n",
    "])\n",
    "\n",
    "v_B2 = np.linalg.inv(B_2) @ v_B1\n",
    "v_B2"
   ]
  },
  {
   "cell_type": "code",
   "execution_count": 5,
   "metadata": {},
   "outputs": [
    {
     "data": {
      "text/plain": [
       "array([2., 1.])"
      ]
     },
     "execution_count": 5,
     "metadata": {},
     "output_type": "execute_result"
    }
   ],
   "source": [
    "B_2 @ v_B2"
   ]
  },
  {
   "cell_type": "code",
   "execution_count": null,
   "metadata": {},
   "outputs": [],
   "source": []
  }
 ],
 "metadata": {
  "kernelspec": {
   "display_name": "Python 3.9.6 64-bit",
   "language": "python",
   "name": "python3"
  },
  "language_info": {
   "codemirror_mode": {
    "name": "ipython",
    "version": 3
   },
   "file_extension": ".py",
   "mimetype": "text/x-python",
   "name": "python",
   "nbconvert_exporter": "python",
   "pygments_lexer": "ipython3",
   "version": "3.9.6"
  },
  "orig_nbformat": 4,
  "vscode": {
   "interpreter": {
    "hash": "aee8b7b246df8f9039afb4144a1f6fd8d2ca17a180786b69acc140d282b71a49"
   }
  }
 },
 "nbformat": 4,
 "nbformat_minor": 2
}
