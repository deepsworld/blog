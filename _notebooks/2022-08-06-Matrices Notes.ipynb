{
 "cells": [
  {
   "cell_type": "markdown",
   "metadata": {},
   "source": [
    "# Matrices Notes\n",
    "> My learning notes for matrices.\n",
    "\n",
    "- toc: true \n",
    "- badges: true\n",
    "- comments: true\n",
    "- categories: [linear_algebra]\n",
    "- image: images/chart-preview.png"
   ]
  },
  {
   "cell_type": "code",
   "execution_count": 9,
   "metadata": {},
   "outputs": [
    {
     "data": {
      "text/plain": [
       "array([[3.],\n",
       "       [2.]])"
      ]
     },
     "execution_count": 9,
     "metadata": {},
     "output_type": "execute_result"
    }
   ],
   "source": [
    "# From: https://hadrienj.github.io/posts/\n",
    "# solve systems of linear equations \n",
    "import numpy as np\n",
    "'''\n",
    "3x - y = 7\n",
    "2x + y = 8\n",
    "----------\n",
    "5x = 15\n",
    "x = 3; y = 2\n",
    "'''\n",
    "\n",
    "mat = np.array([[3, -1], [2, 1]]) # 2 x 2\n",
    "rhs = np.array([[7, 8]]) # 1 x 2\n",
    "out = np.linalg.inv(mat) @ rhs.transpose() # (2 x 2) @ (1 x 2).T\n",
    "out "
   ]
  },
  {
   "cell_type": "code",
   "execution_count": 13,
   "metadata": {},
   "outputs": [
    {
     "data": {
      "text/plain": [
       "array([[1., 0., 0.],\n",
       "       [0., 1., 0.],\n",
       "       [0., 0., 1.]])"
      ]
     },
     "execution_count": 13,
     "metadata": {},
     "output_type": "execute_result"
    }
   ],
   "source": [
    "# Identity matrix \n",
    "I = np.eye(3, 3)\n",
    "I"
   ]
  },
  {
   "cell_type": "code",
   "execution_count": 22,
   "metadata": {},
   "outputs": [
    {
     "data": {
      "text/plain": [
       "array([[1.00000000e+00, 3.32227679e-16],\n",
       "       [3.47665962e-18, 1.00000000e+00]])"
      ]
     },
     "execution_count": 22,
     "metadata": {},
     "output_type": "execute_result"
    }
   ],
   "source": [
    "'''\n",
    "Ainv @ A = I\n",
    "'''\n",
    "mat = np.random.rand(2, 2)\n",
    "I = np.linalg.inv(mat) @ mat\n",
    "I"
   ]
  },
  {
   "cell_type": "markdown",
   "metadata": {},
   "source": [
    "`NOTE`: The output matrix does not look exactly what we expect, this is because of the limitation of floating point precision and for practical purposes e-16 can be considered as zero or very close to zero"
   ]
  },
  {
   "cell_type": "code",
   "execution_count": 23,
   "metadata": {},
   "outputs": [
    {
     "data": {
      "text/plain": [
       "array([[1, 0],\n",
       "       [0, 0]])"
      ]
     },
     "execution_count": 23,
     "metadata": {},
     "output_type": "execute_result"
    }
   ],
   "source": [
    "singular = np.array([[1, 0], [0, 0]])\n",
    "singular"
   ]
  },
  {
   "cell_type": "code",
   "execution_count": 26,
   "metadata": {},
   "outputs": [
    {
     "name": "stdout",
     "output_type": "stream",
     "text": [
      "Cannot find inverse because: Singular matrix\n"
     ]
    }
   ],
   "source": [
    "# cannot because singular\n",
    "try:\n",
    "    np.linalg.inv(singular)\n",
    "except Exception as e:\n",
    "    print(f'Cannot find inverse because: {e}')"
   ]
  },
  {
   "cell_type": "code",
   "execution_count": 29,
   "metadata": {},
   "outputs": [
    {
     "data": {
      "text/plain": [
       "0.0"
      ]
     },
     "execution_count": 29,
     "metadata": {},
     "output_type": "execute_result"
    }
   ],
   "source": [
    "# determinant is zero for singular matrix\n",
    "det_singular = np.linalg.det(singular)\n",
    "det_singular"
   ]
  },
  {
   "cell_type": "code",
   "execution_count": null,
   "metadata": {},
   "outputs": [],
   "source": []
  }
 ],
 "metadata": {
  "kernelspec": {
   "display_name": "Python 3.9.6 64-bit",
   "language": "python",
   "name": "python3"
  },
  "language_info": {
   "codemirror_mode": {
    "name": "ipython",
    "version": 3
   },
   "file_extension": ".py",
   "mimetype": "text/x-python",
   "name": "python",
   "nbconvert_exporter": "python",
   "pygments_lexer": "ipython3",
   "version": "3.9.6"
  },
  "orig_nbformat": 4,
  "vscode": {
   "interpreter": {
    "hash": "aee8b7b246df8f9039afb4144a1f6fd8d2ca17a180786b69acc140d282b71a49"
   }
  }
 },
 "nbformat": 4,
 "nbformat_minor": 2
}
